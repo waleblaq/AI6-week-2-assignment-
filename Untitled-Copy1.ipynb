{
 "cells": [
  {
   "cell_type": "code",
   "execution_count": 27,
   "metadata": {},
   "outputs": [],
   "source": [
    "import numpy as np\n",
    "import pandas as pd\n",
    "import seaborn as sn\n",
    "import matplotlib.pyplot as plt"
   ]
  },
  {
   "cell_type": "code",
   "execution_count": 6,
   "metadata": {},
   "outputs": [],
   "source": [
    "column_name = [\"Population\",\"Profit\"]  \n",
    "data = pd.read_csv(r'C:\\Users\\HP\\Downloads\\Cohort4-master\\Cohort4-master\\beginner\\machine-learning\\week02\\ex1data1.txt', names = column_name)\n",
    "            "
   ]
  },
  {
   "cell_type": "code",
   "execution_count": 7,
   "metadata": {},
   "outputs": [
    {
     "data": {
      "text/html": [
       "<div>\n",
       "<style scoped>\n",
       "    .dataframe tbody tr th:only-of-type {\n",
       "        vertical-align: middle;\n",
       "    }\n",
       "\n",
       "    .dataframe tbody tr th {\n",
       "        vertical-align: top;\n",
       "    }\n",
       "\n",
       "    .dataframe thead th {\n",
       "        text-align: right;\n",
       "    }\n",
       "</style>\n",
       "<table border=\"1\" class=\"dataframe\">\n",
       "  <thead>\n",
       "    <tr style=\"text-align: right;\">\n",
       "      <th></th>\n",
       "      <th>Population</th>\n",
       "      <th>Profit</th>\n",
       "    </tr>\n",
       "  </thead>\n",
       "  <tbody>\n",
       "    <tr>\n",
       "      <th>count</th>\n",
       "      <td>97.000000</td>\n",
       "      <td>97.000000</td>\n",
       "    </tr>\n",
       "    <tr>\n",
       "      <th>mean</th>\n",
       "      <td>8.159800</td>\n",
       "      <td>5.839135</td>\n",
       "    </tr>\n",
       "    <tr>\n",
       "      <th>std</th>\n",
       "      <td>3.869884</td>\n",
       "      <td>5.510262</td>\n",
       "    </tr>\n",
       "    <tr>\n",
       "      <th>min</th>\n",
       "      <td>5.026900</td>\n",
       "      <td>-2.680700</td>\n",
       "    </tr>\n",
       "    <tr>\n",
       "      <th>25%</th>\n",
       "      <td>5.707700</td>\n",
       "      <td>1.986900</td>\n",
       "    </tr>\n",
       "    <tr>\n",
       "      <th>50%</th>\n",
       "      <td>6.589400</td>\n",
       "      <td>4.562300</td>\n",
       "    </tr>\n",
       "    <tr>\n",
       "      <th>75%</th>\n",
       "      <td>8.578100</td>\n",
       "      <td>7.046700</td>\n",
       "    </tr>\n",
       "    <tr>\n",
       "      <th>max</th>\n",
       "      <td>22.203000</td>\n",
       "      <td>24.147000</td>\n",
       "    </tr>\n",
       "  </tbody>\n",
       "</table>\n",
       "</div>"
      ],
      "text/plain": [
       "       Population     Profit\n",
       "count   97.000000  97.000000\n",
       "mean     8.159800   5.839135\n",
       "std      3.869884   5.510262\n",
       "min      5.026900  -2.680700\n",
       "25%      5.707700   1.986900\n",
       "50%      6.589400   4.562300\n",
       "75%      8.578100   7.046700\n",
       "max     22.203000  24.147000"
      ]
     },
     "execution_count": 7,
     "metadata": {},
     "output_type": "execute_result"
    }
   ],
   "source": [
    "data.describe()"
   ]
  },
  {
   "cell_type": "code",
   "execution_count": 8,
   "metadata": {},
   "outputs": [
    {
     "data": {
      "text/html": [
       "<style  type=\"text/css\" >\n",
       "    #T_c82f3dd0_e16f_11e9_9cfe_acfdce6062a5row0_col0 {\n",
       "            background-color:  #5e4fa2;\n",
       "        }    #T_c82f3dd0_e16f_11e9_9cfe_acfdce6062a5row0_col1 {\n",
       "            background-color:  #9e0142;\n",
       "        }    #T_c82f3dd0_e16f_11e9_9cfe_acfdce6062a5row1_col0 {\n",
       "            background-color:  #9e0142;\n",
       "        }    #T_c82f3dd0_e16f_11e9_9cfe_acfdce6062a5row1_col1 {\n",
       "            background-color:  #5e4fa2;\n",
       "        }</style>  \n",
       "<table id=\"T_c82f3dd0_e16f_11e9_9cfe_acfdce6062a5\" > \n",
       "<thead>    <tr> \n",
       "        <th class=\"blank level0\" ></th> \n",
       "        <th class=\"col_heading level0 col0\" >Population</th> \n",
       "        <th class=\"col_heading level0 col1\" >Profit</th> \n",
       "    </tr></thead> \n",
       "<tbody>    <tr> \n",
       "        <th id=\"T_c82f3dd0_e16f_11e9_9cfe_acfdce6062a5level0_row0\" class=\"row_heading level0 row0\" >Population</th> \n",
       "        <td id=\"T_c82f3dd0_e16f_11e9_9cfe_acfdce6062a5row0_col0\" class=\"data row0 col0\" >1</td> \n",
       "        <td id=\"T_c82f3dd0_e16f_11e9_9cfe_acfdce6062a5row0_col1\" class=\"data row0 col1\" >0.837873</td> \n",
       "    </tr>    <tr> \n",
       "        <th id=\"T_c82f3dd0_e16f_11e9_9cfe_acfdce6062a5level0_row1\" class=\"row_heading level0 row1\" >Profit</th> \n",
       "        <td id=\"T_c82f3dd0_e16f_11e9_9cfe_acfdce6062a5row1_col0\" class=\"data row1 col0\" >0.837873</td> \n",
       "        <td id=\"T_c82f3dd0_e16f_11e9_9cfe_acfdce6062a5row1_col1\" class=\"data row1 col1\" >1</td> \n",
       "    </tr></tbody> \n",
       "</table> "
      ],
      "text/plain": [
       "<pandas.io.formats.style.Styler at 0x15ed313cda0>"
      ]
     },
     "execution_count": 8,
     "metadata": {},
     "output_type": "execute_result"
    }
   ],
   "source": [
    "corr = data.corr()\n",
    "corr.style.background_gradient(cmap='Spectral')"
   ]
  },
  {
   "cell_type": "code",
   "execution_count": 9,
   "metadata": {},
   "outputs": [
    {
     "data": {
      "text/html": [
       "<style  type=\"text/css\" >\n",
       "    #T_d59060c6_e16f_11e9_a997_acfdce6062a5row0_col0 {\n",
       "            background-color:  #9e0142;\n",
       "        }    #T_d59060c6_e16f_11e9_a997_acfdce6062a5row0_col1 {\n",
       "            background-color:  #9e0142;\n",
       "        }    #T_d59060c6_e16f_11e9_a997_acfdce6062a5row1_col0 {\n",
       "            background-color:  #5e4fa2;\n",
       "        }    #T_d59060c6_e16f_11e9_a997_acfdce6062a5row1_col1 {\n",
       "            background-color:  #5e4fa2;\n",
       "        }</style>  \n",
       "<table id=\"T_d59060c6_e16f_11e9_a997_acfdce6062a5\" > \n",
       "<thead>    <tr> \n",
       "        <th class=\"blank level0\" ></th> \n",
       "        <th class=\"col_heading level0 col0\" >Population</th> \n",
       "        <th class=\"col_heading level0 col1\" >Profit</th> \n",
       "    </tr></thead> \n",
       "<tbody>    <tr> \n",
       "        <th id=\"T_d59060c6_e16f_11e9_a997_acfdce6062a5level0_row0\" class=\"row_heading level0 row0\" >Population</th> \n",
       "        <td id=\"T_d59060c6_e16f_11e9_a997_acfdce6062a5row0_col0\" class=\"data row0 col0\" >14.976</td> \n",
       "        <td id=\"T_d59060c6_e16f_11e9_a997_acfdce6062a5row0_col1\" class=\"data row0 col1\" >17.8669</td> \n",
       "    </tr>    <tr> \n",
       "        <th id=\"T_d59060c6_e16f_11e9_a997_acfdce6062a5level0_row1\" class=\"row_heading level0 row1\" >Profit</th> \n",
       "        <td id=\"T_d59060c6_e16f_11e9_a997_acfdce6062a5row1_col0\" class=\"data row1 col0\" >17.8669</td> \n",
       "        <td id=\"T_d59060c6_e16f_11e9_a997_acfdce6062a5row1_col1\" class=\"data row1 col1\" >30.363</td> \n",
       "    </tr></tbody> \n",
       "</table> "
      ],
      "text/plain": [
       "<pandas.io.formats.style.Styler at 0x15ed313cd68>"
      ]
     },
     "execution_count": 9,
     "metadata": {},
     "output_type": "execute_result"
    }
   ],
   "source": [
    "cov = data.cov()\n",
    "cov.style.background_gradient(cmap='Spectral')"
   ]
  },
  {
   "cell_type": "code",
   "execution_count": 19,
   "metadata": {},
   "outputs": [
    {
     "name": "stdout",
     "output_type": "stream",
     "text": [
      "    Population    Profit\n",
      "0       6.1101  17.59200\n",
      "1       5.5277   9.13020\n",
      "2       8.5186  13.66200\n",
      "3       7.0032  11.85400\n",
      "4       5.8598   6.82330\n",
      "5       8.3829  11.88600\n",
      "6       7.4764   4.34830\n",
      "7       8.5781  12.00000\n",
      "8       6.4862   6.59870\n",
      "9       5.0546   3.81660\n",
      "10      5.7107   3.25220\n",
      "11     14.1640  15.50500\n",
      "12      5.7340   3.15510\n",
      "13      8.4084   7.22580\n",
      "14      5.6407   0.71618\n",
      "15      5.3794   3.51290\n",
      "16      6.3654   5.30480\n",
      "17      5.1301   0.56077\n",
      "18      6.4296   3.65180\n",
      "19      7.0708   5.38930\n",
      "20      6.1891   3.13860\n",
      "21     20.2700  21.76700\n",
      "22      5.4901   4.26300\n",
      "23      6.3261   5.18750\n",
      "24      5.5649   3.08250\n",
      "25     18.9450  22.63800\n",
      "26     12.8280  13.50100\n",
      "27     10.9570   7.04670\n",
      "28     13.1760  14.69200\n",
      "29     22.2030  24.14700\n",
      "..         ...       ...\n",
      "67     10.2360   7.77540\n",
      "68      5.4994   1.01730\n",
      "69     20.3410  20.99200\n",
      "70     10.1360   6.67990\n",
      "71      7.3345   4.02590\n",
      "72      6.0062   1.27840\n",
      "73      7.2259   3.34110\n",
      "74      5.0269  -2.68070\n",
      "75      6.5479   0.29678\n",
      "76      7.5386   3.88450\n",
      "77      5.0365   5.70140\n",
      "78     10.2740   6.75260\n",
      "79      5.1077   2.05760\n",
      "80      5.7292   0.47953\n",
      "81      5.1884   0.20421\n",
      "82      6.3557   0.67861\n",
      "83      9.7687   7.54350\n",
      "84      6.5159   5.34360\n",
      "85      8.5172   4.24150\n",
      "86      9.1802   6.79810\n",
      "87      6.0020   0.92695\n",
      "88      5.5204   0.15200\n",
      "89      5.0594   2.82140\n",
      "90      5.7077   1.84510\n",
      "91      7.6366   4.29590\n",
      "92      5.8707   7.20290\n",
      "93      5.3054   1.98690\n",
      "94      8.2934   0.14454\n",
      "95     13.3940   9.05510\n",
      "96      5.4369   0.61705\n",
      "\n",
      "[97 rows x 2 columns]\n",
      "Datatype of X and Y :  <class 'pandas.core.frame.DataFrame'>\n",
      "\n",
      " Input Feature X =  [[ 6.1101]\n",
      " [ 5.5277]\n",
      " [ 8.5186]\n",
      " [ 7.0032]\n",
      " [ 5.8598]\n",
      " [ 8.3829]\n",
      " [ 7.4764]\n",
      " [ 8.5781]\n",
      " [ 6.4862]\n",
      " [ 5.0546]\n",
      " [ 5.7107]\n",
      " [14.164 ]\n",
      " [ 5.734 ]\n",
      " [ 8.4084]\n",
      " [ 5.6407]\n",
      " [ 5.3794]\n",
      " [ 6.3654]\n",
      " [ 5.1301]\n",
      " [ 6.4296]\n",
      " [ 7.0708]\n",
      " [ 6.1891]\n",
      " [20.27  ]\n",
      " [ 5.4901]\n",
      " [ 6.3261]\n",
      " [ 5.5649]\n",
      " [18.945 ]\n",
      " [12.828 ]\n",
      " [10.957 ]\n",
      " [13.176 ]\n",
      " [22.203 ]\n",
      " [ 5.2524]\n",
      " [ 6.5894]\n",
      " [ 9.2482]\n",
      " [ 5.8918]\n",
      " [ 8.2111]\n",
      " [ 7.9334]\n",
      " [ 8.0959]\n",
      " [ 5.6063]\n",
      " [12.836 ]\n",
      " [ 6.3534]\n",
      " [ 5.4069]\n",
      " [ 6.8825]\n",
      " [11.708 ]\n",
      " [ 5.7737]\n",
      " [ 7.8247]\n",
      " [ 7.0931]\n",
      " [ 5.0702]\n",
      " [ 5.8014]\n",
      " [11.7   ]\n",
      " [ 5.5416]\n",
      " [ 7.5402]\n",
      " [ 5.3077]\n",
      " [ 7.4239]\n",
      " [ 7.6031]\n",
      " [ 6.3328]\n",
      " [ 6.3589]\n",
      " [ 6.2742]\n",
      " [ 5.6397]\n",
      " [ 9.3102]\n",
      " [ 9.4536]\n",
      " [ 8.8254]\n",
      " [ 5.1793]\n",
      " [21.279 ]\n",
      " [14.908 ]\n",
      " [18.959 ]\n",
      " [ 7.2182]\n",
      " [ 8.2951]\n",
      " [10.236 ]\n",
      " [ 5.4994]\n",
      " [20.341 ]\n",
      " [10.136 ]\n",
      " [ 7.3345]\n",
      " [ 6.0062]\n",
      " [ 7.2259]\n",
      " [ 5.0269]\n",
      " [ 6.5479]\n",
      " [ 7.5386]\n",
      " [ 5.0365]\n",
      " [10.274 ]\n",
      " [ 5.1077]\n",
      " [ 5.7292]\n",
      " [ 5.1884]\n",
      " [ 6.3557]\n",
      " [ 9.7687]\n",
      " [ 6.5159]\n",
      " [ 8.5172]\n",
      " [ 9.1802]\n",
      " [ 6.002 ]\n",
      " [ 5.5204]\n",
      " [ 5.0594]\n",
      " [ 5.7077]\n",
      " [ 7.6366]\n",
      " [ 5.8707]\n",
      " [ 5.3054]\n",
      " [ 8.2934]\n",
      " [13.394 ]\n",
      " [ 5.4369]] \n",
      " The shape of X =  (97, 1)  \n",
      " Output (Y) =  [17.592    9.1302  13.662   11.854    6.8233  11.886    4.3483  12.\n",
      "  6.5987   3.8166   3.2522  15.505    3.1551   7.2258   0.71618  3.5129\n",
      "  5.3048   0.56077  3.6518   5.3893   3.1386  21.767    4.263    5.1875\n",
      "  3.0825  22.638   13.501    7.0467  14.692   24.147   -1.22     5.9966\n",
      " 12.134    1.8495   6.5426   4.5623   4.1164   3.3928  10.117    5.4974\n",
      "  0.55657  3.9115   5.3854   2.4406   6.7318   1.0463   5.1337   1.844\n",
      "  8.0043   1.0179   6.7504   1.8396   4.2885   4.9981   1.4233  -1.4211\n",
      "  2.4756   4.6042   3.9624   5.4141   5.1694  -0.74279 17.929   12.054\n",
      " 17.054    4.8852   5.7442   7.7754   1.0173  20.992    6.6799   4.0259\n",
      "  1.2784   3.3411  -2.6807   0.29678  3.8845   5.7014   6.7526   2.0576\n",
      "  0.47953  0.20421  0.67861  7.5435   5.3436   4.2415   6.7981   0.92695\n",
      "  0.152    2.8214   1.8451   4.2959   7.2029   1.9869   0.14454  9.0551\n",
      "  0.61705] \n",
      " Shape of y =  (97,)\n",
      "Datatype of X and Y :  <class 'numpy.ndarray'> <class 'numpy.ndarray'>\n"
     ]
    }
   ],
   "source": [
    "# Create the pandas DataFrame with the list and add column headers\n",
    "dataset= pd.DataFrame(data, columns = ['Population', 'Profit']) \n",
    "\n",
    "print(dataset)\n",
    "print('Datatype of X and Y : ', type(dataset))\n",
    "\n",
    "\n",
    "# Split the dataset into input (feature X) and output (Target y) from Pandas dataFrame named dataset\n",
    "\n",
    "X = dataset.iloc[:, :-1].values #All rows, all columns excluding the last column indexed -1\n",
    "y = dataset.iloc[:, 1].values #All rows, column 1\n",
    "\n",
    "print ('\\n Input Feature X = ', X, '\\n The shape of X = ',X.shape,  ' \\n Output (Y) = ', y, '\\n Shape of y = ',y.shape)\n",
    "print('Datatype of X and Y : ', type(X), type(y))"
   ]
  },
  {
   "cell_type": "code",
   "execution_count": 21,
   "metadata": {},
   "outputs": [
    {
     "data": {
      "text/plain": [
       "LinearRegression(copy_X=True, fit_intercept=True, n_jobs=1, normalize=False)"
      ]
     },
     "execution_count": 21,
     "metadata": {},
     "output_type": "execute_result"
    }
   ],
   "source": [
    "from sklearn.linear_model import LinearRegression\n",
    "regressor = LinearRegression()\n",
    "regressor.fit(X, y)"
   ]
  },
  {
   "cell_type": "code",
   "execution_count": 22,
   "metadata": {},
   "outputs": [
    {
     "data": {
      "text/plain": [
       "0.7020315537841397"
      ]
     },
     "execution_count": 22,
     "metadata": {},
     "output_type": "execute_result"
    }
   ],
   "source": [
    "regressor.score(X,y)"
   ]
  },
  {
   "cell_type": "code",
   "execution_count": 23,
   "metadata": {},
   "outputs": [
    {
     "name": "stdout",
     "output_type": "stream",
     "text": [
      "-3.89578087831185\n"
     ]
    }
   ],
   "source": [
    "print(regressor.intercept_)"
   ]
  },
  {
   "cell_type": "code",
   "execution_count": 24,
   "metadata": {},
   "outputs": [
    {
     "data": {
      "text/plain": [
       "array([1.19303364])"
      ]
     },
     "execution_count": 24,
     "metadata": {},
     "output_type": "execute_result"
    }
   ],
   "source": [
    "regressor.coef_"
   ]
  },
  {
   "cell_type": "code",
   "execution_count": 25,
   "metadata": {},
   "outputs": [],
   "source": [
    "y_pred = regressor.predict(X)"
   ]
  },
  {
   "cell_type": "code",
   "execution_count": 28,
   "metadata": {},
   "outputs": [
    {
     "data": {
      "image/png": "[encoded data removed]",
      "text/plain": [
       "<matplotlib.figure.Figure at 0x15ed3ec1438>"
      ]
     },
     "metadata": {},
     "output_type": "display_data"
    }
   ],
   "source": [
    "# Visualising the results\n",
    "plt.scatter(X, y, color = 'red') #Scatter plot of the X an y dataset\n",
    "\n",
    "plt.plot(X, regressor.predict(X), color = 'blue')#Line plot of X against predicted Y \n",
    "#(remember that output of regressor.predict is yhat)\n",
    "\n",
    "plt.title('Simple Linear Regression of Predictor vs Dependent variable')\n",
    "plt.xlabel('X (Predictor)')\n",
    "plt.ylabel('y (Dependent Variable)')\n",
    "plt.show()"
   ]
  },
  {
   "cell_type": "code",
   "execution_count": 29,
   "metadata": {},
   "outputs": [],
   "source": [
    "def predict():\n",
    "    input_ = float(input('Enter the population size(10,000): '))\n",
    "    print(\"For a population of {}, the estimated profit is ${}\".format(input_, input_ * 1.2334223))"
   ]
  },
  {
   "cell_type": "code",
   "execution_count": null,
   "metadata": {},
   "outputs": [],
   "source": [
    "predict()"
   ]
  },
  {
   "cell_type": "code",
   "execution_count": null,
   "metadata": {},
   "outputs": [],
   "source": []
  }
 ],
 "metadata": {
  "kernelspec": {
   "display_name": "Python 3",
   "language": "python",
   "name": "python3"
  },
  "language_info": {
   "codemirror_mode": {
    "name": "ipython",
    "version": 3
   },
   "file_extension": ".py",
   "mimetype": "text/x-python",
   "name": "python",
   "nbconvert_exporter": "python",
   "pygments_lexer": "ipython3",
   "version": "3.6.4"
  }
 },
 "nbformat": 4,
 "nbformat_minor": 2
}
